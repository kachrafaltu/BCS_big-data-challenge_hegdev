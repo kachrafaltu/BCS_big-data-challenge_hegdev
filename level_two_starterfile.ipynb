{
  "nbformat": 4,
  "nbformat_minor": 0,
  "metadata": {
    "colab": {
      "name": "level_two_starterfile.ipynb",
      "provenance": [],
      "collapsed_sections": []
    },
    "kernelspec": {
      "name": "python3",
      "display_name": "Python 3"
    }
  },
  "cells": [
    {
      "cell_type": "code",
      "metadata": {
        "id": "-nwzxq5q4Ole",
        "colab": {
          "base_uri": "https://localhost:8080/"
        },
        "outputId": "ab21bedd-6cce-4f4c-cd6e-b0886c788522"
      },
      "source": [
        "import os\n",
        "# Find the latest version of spark 3.0  from http://www.apache.org/dist/spark/ and enter as the spark version\n",
        "# For example:\n",
        "# spark_version = 'spark-3.0.3'\n",
        "spark_version = 'spark-3.2.1'\n",
        "os.environ['SPARK_VERSION']=spark_version\n",
        "\n",
        "# Install Spark and Java\n",
        "!apt-get update\n",
        "!apt-get install openjdk-8-jdk-headless -qq > /dev/null\n",
        "!wget -q http://www.apache.org/dist/spark/$SPARK_VERSION/$SPARK_VERSION-bin-hadoop2.7.tgz\n",
        "!tar xf $SPARK_VERSION-bin-hadoop2.7.tgz\n",
        "!pip install -q findspark\n",
        "\n",
        "# Set Environment Variables\n",
        "os.environ[\"JAVA_HOME\"] = \"/usr/lib/jvm/java-8-openjdk-amd64\"\n",
        "os.environ[\"SPARK_HOME\"] = f\"/content/{spark_version}-bin-hadoop2.7\"\n",
        "\n",
        "# Start a SparkSession\n",
        "import findspark\n",
        "findspark.init()"
      ],
      "execution_count": 2,
      "outputs": [
        {
          "output_type": "stream",
          "name": "stdout",
          "text": [
            "Get:1 http://security.ubuntu.com/ubuntu bionic-security InRelease [88.7 kB]\n",
            "Get:2 https://cloud.r-project.org/bin/linux/ubuntu bionic-cran40/ InRelease [3,626 B]\n",
            "Ign:3 https://developer.download.nvidia.com/compute/cuda/repos/ubuntu1804/x86_64  InRelease\n",
            "Get:4 http://ppa.launchpad.net/c2d4u.team/c2d4u4.0+/ubuntu bionic InRelease [15.9 kB]\n",
            "Ign:5 https://developer.download.nvidia.com/compute/machine-learning/repos/ubuntu1804/x86_64  InRelease\n",
            "Hit:6 http://archive.ubuntu.com/ubuntu bionic InRelease\n",
            "Get:7 https://developer.download.nvidia.com/compute/cuda/repos/ubuntu1804/x86_64  Release [696 B]\n",
            "Hit:8 https://developer.download.nvidia.com/compute/machine-learning/repos/ubuntu1804/x86_64  Release\n",
            "Get:9 https://developer.download.nvidia.com/compute/cuda/repos/ubuntu1804/x86_64  Release.gpg [836 B]\n",
            "Get:10 http://archive.ubuntu.com/ubuntu bionic-updates InRelease [88.7 kB]\n",
            "Hit:11 http://ppa.launchpad.net/cran/libgit2/ubuntu bionic InRelease\n",
            "Get:12 http://ppa.launchpad.net/deadsnakes/ppa/ubuntu bionic InRelease [15.9 kB]\n",
            "Get:13 http://archive.ubuntu.com/ubuntu bionic-backports InRelease [74.6 kB]\n",
            "Get:14 http://security.ubuntu.com/ubuntu bionic-security/multiverse amd64 Packages [21.1 kB]\n",
            "Get:15 http://security.ubuntu.com/ubuntu bionic-security/main amd64 Packages [2,564 kB]\n",
            "Get:16 http://ppa.launchpad.net/graphics-drivers/ppa/ubuntu bionic InRelease [21.3 kB]\n",
            "Get:17 http://security.ubuntu.com/ubuntu bionic-security/universe amd64 Packages [1,470 kB]\n",
            "Get:18 http://security.ubuntu.com/ubuntu bionic-security/restricted amd64 Packages [783 kB]\n",
            "Get:20 https://developer.download.nvidia.com/compute/cuda/repos/ubuntu1804/x86_64  Packages [917 kB]\n",
            "Get:21 http://ppa.launchpad.net/c2d4u.team/c2d4u4.0+/ubuntu bionic/main Sources [1,827 kB]\n",
            "Get:22 http://archive.ubuntu.com/ubuntu bionic-updates/restricted amd64 Packages [840 kB]\n",
            "Get:23 http://archive.ubuntu.com/ubuntu bionic-updates/multiverse amd64 Packages [29.0 kB]\n",
            "Get:24 http://archive.ubuntu.com/ubuntu bionic-updates/main amd64 Packages [3,034 kB]\n",
            "Get:25 http://ppa.launchpad.net/c2d4u.team/c2d4u4.0+/ubuntu bionic/main amd64 Packages [937 kB]\n",
            "Get:26 http://archive.ubuntu.com/ubuntu bionic-updates/universe amd64 Packages [2,252 kB]\n",
            "Get:27 http://ppa.launchpad.net/deadsnakes/ppa/ubuntu bionic/main amd64 Packages [45.3 kB]\n",
            "Get:28 http://ppa.launchpad.net/graphics-drivers/ppa/ubuntu bionic/main amd64 Packages [42.8 kB]\n",
            "Fetched 15.1 MB in 4s (3,650 kB/s)\n",
            "Reading package lists... Done\n"
          ]
        }
      ]
    },
    {
      "cell_type": "code",
      "metadata": {
        "id": "hr12wJ8J4Sy9"
      },
      "source": [
        "from pyspark.sql import SparkSession\n",
        "spark = SparkSession.builder.appName(\"BigData-HW-2\").getOrCreate()"
      ],
      "execution_count": 3,
      "outputs": []
    },
    {
      "cell_type": "markdown",
      "metadata": {
        "id": "1sDjdLAA4lHw"
      },
      "source": [
        "# Load Amazon Data into Spark DataFrame"
      ]
    },
    {
      "cell_type": "code",
      "metadata": {
        "id": "dCzwVUj74iFl",
        "outputId": "c4731bfb-eba0-4a86-d19a-f18612d4b29a",
        "colab": {
          "base_uri": "https://localhost:8080/"
        }
      },
      "source": [
        "from pyspark import SparkFiles\n",
        "url = \"https://s3.amazonaws.com/amazon-reviews-pds/tsv/amazon_reviews_us_Home_Improvement_v1_00.tsv.gz\"\n",
        "spark.sparkContext.addFile(url)\n",
        "home_improv_df = spark.read.csv(SparkFiles.get(\"amazon_reviews_us_Home_Improvement_v1_00.tsv.gz\"), sep=\"\\t\", header=True)\n",
        "home_improv_df.show()"
      ],
      "execution_count": 4,
      "outputs": [
        {
          "output_type": "stream",
          "name": "stdout",
          "text": [
            "+-----------+-----------+--------------+----------+--------------+--------------------+----------------+-----------+-------------+-----------+----+-----------------+--------------------+--------------------+-----------+\n",
            "|marketplace|customer_id|     review_id|product_id|product_parent|       product_title|product_category|star_rating|helpful_votes|total_votes|vine|verified_purchase|     review_headline|         review_body|review_date|\n",
            "+-----------+-----------+--------------+----------+--------------+--------------------+----------------+-----------+-------------+-----------+----+-----------------+--------------------+--------------------+-----------+\n",
            "|         US|   48881148|R215C9BDXTDQOW|B00FR4YQYK|     381800308|SadoTech Model C ...|Home Improvement|          4|            0|          0|   N|                Y|          Four Stars|        good product| 2015-08-31|\n",
            "|         US|   47882936|R1DTPUV1J57YHA|B00439MYYE|     921341748|iSpring T32M 3.2 ...|Home Improvement|          5|            0|          0|   N|                Y|Good price, quick...|Good price, quick...| 2015-08-31|\n",
            "|         US|   44435471| RFAZK5EWKJWOU|B00002N762|      56053291|Schlage F10CS V E...|Home Improvement|          5|            0|          0|   N|                Y|          Five Stars|       Excellent...!| 2015-08-31|\n",
            "|         US|   28377689|R2XT8X0O0WS1AL|B000QFCP1G|     595928517|Citri-Strip QCG73...|Home Improvement|          5|            0|          0|   N|                Y|Although *slightl...|Although *slightl...| 2015-08-31|\n",
            "|         US|   50134766|R14GRNANKO2Y2J|B00WRCRKOI|     417053744|SleekLighting Bul...|Home Improvement|          5|            0|          0|   N|                Y|      Great Adapters|These adapters ar...| 2015-08-31|\n",
            "|         US|   14066511|R2BLF9VYL24LCQ|B00NIH88EW|     275395071|VDOMUS&reg;Exquis...|Home Improvement|          5|            1|          1|   N|                Y|                nice|awesome and great...| 2015-08-31|\n",
            "|         US|   15211046|R1GI9UW5KJ671O|B005B9CI96|     856617815|Frigidaire 316075...|Home Improvement|          5|            0|          0|   N|                Y|          Five Stars|Perfect. Exactly ...| 2015-08-31|\n",
            "|         US|   14862498|R2H5CEJN863M86|B008L0OMWI|     125102494|Anyray® 5-Bulbs 7...|Home Improvement|          5|            0|          1|   N|                Y|So far working gr...|So far working gr...| 2015-08-31|\n",
            "|         US|   23617292| R5PPDHFOZ3SMU|B00P9FTC6O|     523110842|Cambridge 100 pcs...|Home Improvement|          5|            0|          0|   N|                Y|           Ties tie.|Not much to say a...| 2015-08-31|\n",
            "|         US|   35820485| RE1L9IENKJJ7Y|B00K6BQEHQ|     797306964|EUBUY Silver Tone...|Home Improvement|          1|            0|          0|   N|                Y|             GARBAGE|       crap quality.| 2015-08-31|\n",
            "|         US|   47162350|R3CZ0990QC2Z0H|B008BYQCWM|     865874404|Legend 809125 Leg...|Home Improvement|          5|            0|          0|   N|                Y|          Five Stars|  Good. As expected.| 2015-08-31|\n",
            "|         US|   31884789|R3UMMD2IO29QSP|B003BLHTOU|     183592595|Forearm Forklift ...|Home Improvement|          5|            0|          0|   N|                Y|           It works!|My husband and I ...| 2015-08-31|\n",
            "|         US|   43835770| R541LE5J3OJH2|B0065I114K|     185006358|Newer Technology ...|Home Improvement|          5|            0|          0|   N|                Y|          Five Stars|     works perfectly| 2015-08-31|\n",
            "|         US|   26212294|R10KD9FIE6Y1AS|B00J9XB6BQ|      53423207|Rok Hardware 25 P...|Home Improvement|          5|            0|          0|   N|                Y|Banging cabinet d...|Banging cabinet d...| 2015-08-31|\n",
            "|         US|   17876704|R1YT5YG0QG5DCG|B00K36NJ0E|     593464633|Drift Light Using...|Home Improvement|          5|            0|          0|   N|                Y|Great product for...|Great product for...| 2015-08-31|\n",
            "|         US|   22813225|R207LXJWL40V1S|B000ZIEOHW|     833911812|Troy DPH11 Profes...|Home Improvement|          4|            0|          0|   N|                Y|GETTING THE JOB D...|Drywalling our 18...| 2015-08-31|\n",
            "|         US|   25448576| RIDP0ZD7WT9DE|B0009YDHKC|     852173443|Wright Products V...|Home Improvement|          5|            0|          0|   N|                Y|          Five Stars|exact replacement...| 2015-08-31|\n",
            "|         US|   19754503|R2XJSNZ9219U1Z|B00LBGVLS2|     929968058|LiftMaster Garage...|Home Improvement|          5|            0|          0|   N|                Y|Easy to program g...|Works as advertis...| 2015-08-31|\n",
            "|         US|   17767084|R2M9F1FVVDOGFL|B00002N5DY|     830214712|Heath Zenith SL-5...|Home Improvement|          5|            0|          0|   N|                Y|     easy to install|Working well the ...| 2015-08-31|\n",
            "|         US|   48001709|R1QTOSE2BHU2LJ|B000BQOX88|     498022954|Intermatic T101 2...|Home Improvement|          3|            1|          2|   N|                Y|Kind of disappoin...|I connected the r...| 2015-08-31|\n",
            "+-----------+-----------+--------------+----------+--------------+--------------------+----------------+-----------+-------------+-----------+----+-----------------+--------------------+--------------------+-----------+\n",
            "only showing top 20 rows\n",
            "\n"
          ]
        }
      ]
    },
    {
      "cell_type": "markdown",
      "metadata": {
        "id": "wYvHpYMO4os_"
      },
      "source": [
        "# Filter by Votes"
      ]
    },
    {
      "cell_type": "code",
      "metadata": {
        "id": "D1Q9MhQL4qVw",
        "outputId": "649ed4a1-5aa5-4711-8b1d-cc4beb3c1f0a",
        "colab": {
          "base_uri": "https://localhost:8080/"
        }
      },
      "source": [
        "filtered_home_improv_df = home_improv_df.filter(\"total_votes == 0\").select([\"star_rating\",\"helpful_votes\",\"total_votes\",\"vine\",\"verified_purchase\"])\n",
        "filtered_home_improv_df.show(10)"
      ],
      "execution_count": 8,
      "outputs": [
        {
          "output_type": "stream",
          "name": "stdout",
          "text": [
            "+-----------+-------------+-----------+----+-----------------+\n",
            "|star_rating|helpful_votes|total_votes|vine|verified_purchase|\n",
            "+-----------+-------------+-----------+----+-----------------+\n",
            "|          4|            0|          0|   N|                Y|\n",
            "|          5|            0|          0|   N|                Y|\n",
            "|          5|            0|          0|   N|                Y|\n",
            "|          5|            0|          0|   N|                Y|\n",
            "|          5|            0|          0|   N|                Y|\n",
            "|          5|            0|          0|   N|                Y|\n",
            "|          5|            0|          0|   N|                Y|\n",
            "|          1|            0|          0|   N|                Y|\n",
            "|          5|            0|          0|   N|                Y|\n",
            "|          5|            0|          0|   N|                Y|\n",
            "+-----------+-------------+-----------+----+-----------------+\n",
            "only showing top 10 rows\n",
            "\n"
          ]
        }
      ]
    },
    {
      "cell_type": "code",
      "metadata": {
        "id": "oWxqYZGa6lwr",
        "outputId": "a2b29951-4f11-42f0-8253-64882d8c0316",
        "colab": {
          "base_uri": "https://localhost:8080/"
        }
      },
      "source": [
        "# Filter for greater than 20 total votes\n",
        "total_votes_df = home_improv_df.filter(\"total_votes > 20\").select([\"star_rating\",\"helpful_votes\",\"total_votes\",\"vine\",\"verified_purchase\"])\n",
        "total_votes_df.show(10)\n"
      ],
      "execution_count": 10,
      "outputs": [
        {
          "output_type": "stream",
          "name": "stdout",
          "text": [
            "+-----------+-------------+-----------+----+-----------------+\n",
            "|star_rating|helpful_votes|total_votes|vine|verified_purchase|\n",
            "+-----------+-------------+-----------+----+-----------------+\n",
            "|          4|           21|         21|   N|                Y|\n",
            "|          5|           43|         45|   N|                Y|\n",
            "|          4|           63|         71|   N|                Y|\n",
            "|          5|           28|         29|   N|                Y|\n",
            "|          1|           32|         35|   N|                Y|\n",
            "|          4|          106|        115|   N|                Y|\n",
            "|          5|           33|         34|   N|                Y|\n",
            "|          1|           91|         92|   N|                Y|\n",
            "|          5|           23|         23|   N|                N|\n",
            "|          4|           86|         91|   N|                N|\n",
            "+-----------+-------------+-----------+----+-----------------+\n",
            "only showing top 10 rows\n",
            "\n"
          ]
        }
      ]
    },
    {
      "cell_type": "code",
      "source": [
        ""
      ],
      "metadata": {
        "colab": {
          "base_uri": "https://localhost:8080/"
        },
        "id": "C8mycMLyWnJu",
        "outputId": "7fec3715-44c4-4dd0-f50d-4347667250a3"
      },
      "execution_count": 15,
      "outputs": [
        {
          "output_type": "stream",
          "name": "stdout",
          "text": [
            "+-----------+-------------+-----------+----+-----------------+\n",
            "|star_rating|helpful_votes|total_votes|vine|verified_purchase|\n",
            "+-----------+-------------+-----------+----+-----------------+\n",
            "|          4|           21|         21|   N|                Y|\n",
            "|          5|           43|         45|   N|                Y|\n",
            "|          4|           63|         71|   N|                Y|\n",
            "|          5|           28|         29|   N|                Y|\n",
            "|          1|           32|         35|   N|                Y|\n",
            "|          4|          106|        115|   N|                Y|\n",
            "|          5|           33|         34|   N|                Y|\n",
            "|          1|           91|         92|   N|                Y|\n",
            "|          5|           23|         23|   N|                N|\n",
            "|          4|           86|         91|   N|                N|\n",
            "|          5|           39|         45|   N|                Y|\n",
            "|          5|           21|         22|   N|                N|\n",
            "|          5|           27|         27|   N|                Y|\n",
            "|          1|           19|         22|   N|                Y|\n",
            "|          3|           45|         48|   N|                Y|\n",
            "|          1|           31|         35|   N|                Y|\n",
            "|          5|           64|         64|   N|                Y|\n",
            "|          1|           13|         21|   N|                N|\n",
            "|          5|           30|         32|   N|                Y|\n",
            "|          5|           91|         93|   N|                Y|\n",
            "+-----------+-------------+-----------+----+-----------------+\n",
            "only showing top 20 rows\n",
            "\n"
          ]
        }
      ]
    },
    {
      "cell_type": "code",
      "metadata": {
        "id": "Psfu6Qpf6rmh",
        "outputId": "07b7b419-2c2a-4ac1-d924-6a88c3e497de",
        "colab": {
          "base_uri": "https://localhost:8080/"
        }
      },
      "source": [
        "# Filter for greater than 50% helpful vote percentage\n",
        "\n",
        "helpful_votes_df=home_improv_df.filter(\"helpful_votes/total_votes > .5 and total_votes > 20\").select([\"star_rating\",\"helpful_votes\",\"total_votes\",\"vine\",\"verified_purchase\"])\n",
        "helpful_votes_df.show(10)"
      ],
      "execution_count": 16,
      "outputs": [
        {
          "output_type": "stream",
          "name": "stdout",
          "text": [
            "+-----------+-------------+-----------+----+-----------------+\n",
            "|star_rating|helpful_votes|total_votes|vine|verified_purchase|\n",
            "+-----------+-------------+-----------+----+-----------------+\n",
            "|          4|           21|         21|   N|                Y|\n",
            "|          5|           43|         45|   N|                Y|\n",
            "|          4|           63|         71|   N|                Y|\n",
            "|          5|           28|         29|   N|                Y|\n",
            "|          1|           32|         35|   N|                Y|\n",
            "|          4|          106|        115|   N|                Y|\n",
            "|          5|           33|         34|   N|                Y|\n",
            "|          1|           91|         92|   N|                Y|\n",
            "|          5|           23|         23|   N|                N|\n",
            "|          4|           86|         91|   N|                N|\n",
            "+-----------+-------------+-----------+----+-----------------+\n",
            "only showing top 10 rows\n",
            "\n"
          ]
        }
      ]
    },
    {
      "cell_type": "markdown",
      "metadata": {
        "id": "AlnzTsVZ4tvT"
      },
      "source": [
        "# Describe Stats"
      ]
    },
    {
      "cell_type": "code",
      "metadata": {
        "id": "vLFeFa7o7bdb",
        "outputId": "c1215469-f0db-4b88-9659-2e592c831b94",
        "colab": {
          "base_uri": "https://localhost:8080/"
        }
      },
      "source": [
        "# Paid reviews\n",
        "paid_df=home_improv_df.filter(\"vine == 'Y'\").select([\"star_rating\",\"helpful_votes\",\"total_votes\",\"vine\",\"verified_purchase\"])\n",
        "paid_df.describe().show(10)\n"
      ],
      "execution_count": 23,
      "outputs": [
        {
          "output_type": "stream",
          "name": "stdout",
          "text": [
            "+-------+------------------+------------------+------------------+-----+-----------------+\n",
            "|summary|       star_rating|     helpful_votes|       total_votes| vine|verified_purchase|\n",
            "+-------+------------------+------------------+------------------+-----+-----------------+\n",
            "|  count|             10779|             10779|             10779|10779|            10779|\n",
            "|   mean| 4.305965302903794|  2.65033862139345|3.2816587809629834| null|             null|\n",
            "| stddev|0.8854887968019488|15.899605954216419| 17.10616778907542| null|             null|\n",
            "|    min|                 1|                 0|                 0|    Y|                N|\n",
            "|    max|                 5|                96|                99|    Y|                Y|\n",
            "+-------+------------------+------------------+------------------+-----+-----------------+\n",
            "\n"
          ]
        }
      ]
    },
    {
      "cell_type": "code",
      "metadata": {
        "id": "o5qu-sPf7k-d",
        "outputId": "e0d7d023-508b-4004-94e8-00b1c6a917a5",
        "colab": {
          "base_uri": "https://localhost:8080/"
        }
      },
      "source": [
        "# Unpaid reviews\n",
        "\n",
        "unpaid_df=home_improv_df.filter(\"vine == 'N'\").select([\"star_rating\",\"helpful_votes\",\"total_votes\",\"vine\",\"verified_purchase\"])\n",
        "unpaid_df.describe().show(10)\n"
      ],
      "execution_count": 24,
      "outputs": [
        {
          "output_type": "stream",
          "name": "stdout",
          "text": [
            "+-------+------------------+------------------+------------------+-------+-----------------+\n",
            "|summary|       star_rating|     helpful_votes|       total_votes|   vine|verified_purchase|\n",
            "+-------+------------------+------------------+------------------+-------+-----------------+\n",
            "|  count|           2623758|           2623758|           2623758|2623758|          2623758|\n",
            "|   mean| 4.181868525984485| 1.678327040832272|2.0215397151719023|   null|             null|\n",
            "| stddev|1.3039638701691976|15.910621255078016|16.761139850927773|   null|             null|\n",
            "|    min|                 1|                 0|                 0|      N|                N|\n",
            "|    max|                 5|               991|               996|      N|                Y|\n",
            "+-------+------------------+------------------+------------------+-------+-----------------+\n",
            "\n"
          ]
        }
      ]
    },
    {
      "cell_type": "markdown",
      "metadata": {
        "id": "u17ssTQS4xHa"
      },
      "source": [
        "# Determine the percentage of five-star review among vine reviews"
      ]
    },
    {
      "cell_type": "code",
      "metadata": {
        "id": "HSSA2Z1-40QL",
        "outputId": "8d66142e-438a-41b4-bf5a-0a3cb82d888c",
        "colab": {
          "base_uri": "https://localhost:8080/"
        }
      },
      "source": [
        "#paid_df.count()\n",
        "paid_number=paid_df.count()\n",
        "#paid_df.filter(\"star_rating==5\").count()\n",
        "paid_five_star_number=paid_df.filter(\"star_rating==5\").count()\n",
        "percentage_five_star_vine = paid_five_star_number/paid_number\n",
        "#print(percentage_five_star_vine)\n",
        "print(f'Number of paid reviews {paid_number}')\n",
        "print(f'Number of paid five star reviews {paid_five_star_number}')\n",
        "print(f'Percantage of paid reviews that are five stars {percentage_five_star_vine * 100}%')"
      ],
      "execution_count": 30,
      "outputs": [
        {
          "output_type": "stream",
          "name": "stdout",
          "text": [
            "Number of paid reviews 10779\n",
            "Number of paid five star reviews 5557\n",
            "Percantage of paid reviews that are five stars 51.55394749049077%\n"
          ]
        }
      ]
    },
    {
      "cell_type": "markdown",
      "metadata": {
        "id": "3L6C5S-K42bm"
      },
      "source": [
        "# Determine the percentage of five-star review among non-Vine reviews"
      ]
    },
    {
      "cell_type": "code",
      "metadata": {
        "id": "93A0BkCt49Vw",
        "outputId": "65123c9a-ce61-42b4-f75c-b7f8ab3f0092",
        "colab": {
          "base_uri": "https://localhost:8080/"
        }
      },
      "source": [
        "#unpaid_df.count()\n",
        "unpaid_number=unpaid_df.count()\n",
        "#unpaid_df.filter(\"star_rating==5\").count()\n",
        "unpaid_five_star_number=unpaid_df.filter(\"star_rating==5\").count()\n",
        "percentage_five_star_non_vine = unpaid_five_star_number/unpaid_number\n",
        "print(f'Number of unpaid reviews {unpaid_number}')\n",
        "print(f'Number of unpaid five star reviews {unpaid_five_star_number}')\n",
        "print(f'Percantage of unpaid reviews that are five stars {percentage_five_star_non_vine * 100}%')"
      ],
      "execution_count": 36,
      "outputs": [
        {
          "output_type": "stream",
          "name": "stdout",
          "text": [
            "Number of unpaid reviews 2623758\n",
            "Number of unpaid five star reviews 1650924\n",
            "Percantage of unpaid reviews that are five stars 62.9221140059411%\n"
          ]
        }
      ]
    },
    {
      "cell_type": "markdown",
      "source": [
        "**Additional analysis - check if the percentage pattern is different for the voted reviews that are paid and non paid**"
      ],
      "metadata": {
        "id": "bvXtEx_cgx2K"
      }
    },
    {
      "cell_type": "code",
      "source": [
        "#paid_df.count()\n",
        "paid_number=paid_df.count()\n",
        "#paid_df.filter(\"star_rating==5\").count()\n",
        "paid_voted_five_star_number=paid_df.filter(\"star_rating==5 and total_votes > 0\").count()\n",
        "percentage_voted_five_star_vine = paid_voted_five_star_number/paid_number\n",
        "#print(percentage_five_star_vine)\n",
        "print(f'Number of paid reviews with votes {paid_number}')\n",
        "print(f'Number of paid voted five star reviews with votes {paid_voted_five_star_number}')\n",
        "print(f'Percantage of paid reviews that are five stars with votes {percentage_voted_five_star_vine * 100}%')"
      ],
      "metadata": {
        "colab": {
          "base_uri": "https://localhost:8080/"
        },
        "id": "51R6iJ71e__-",
        "outputId": "f49b30cc-6779-4f2d-97be-dd2bf542d6b7"
      },
      "execution_count": 35,
      "outputs": [
        {
          "output_type": "stream",
          "name": "stdout",
          "text": [
            "Number of paid reviews with votes 10779\n",
            "Number of paid voted five star reviews with votes 2899\n",
            "Percantage of paid reviews that are five stars with votes 26.89488820855367%\n"
          ]
        }
      ]
    },
    {
      "cell_type": "code",
      "source": [
        "#unpaid_df.count()\n",
        "unpaid_number=unpaid_df.count()\n",
        "#unpaid_df.filter(\"star_rating==5\").count()\n",
        "unpaid_voted_five_star_number=unpaid_df.filter(\"star_rating==5 and total_votes >0\").count()\n",
        "percentage_voted_five_star_non_vine = unpaid_voted_five_star_number/unpaid_number\n",
        "print(f'Number of unpaid reviews {unpaid_number}')\n",
        "print(f'Number of unpaid voted five star reviews {unpaid_voted_five_star_number}')\n",
        "print(f'Percantage of unpaid voted reviews that are five stars {percentage_voted_five_star_non_vine * 100}%')"
      ],
      "metadata": {
        "colab": {
          "base_uri": "https://localhost:8080/"
        },
        "id": "zlY7vCaOgFBV",
        "outputId": "8c1efc0d-cb95-4584-f35b-ea208ffa1a36"
      },
      "execution_count": 37,
      "outputs": [
        {
          "output_type": "stream",
          "name": "stdout",
          "text": [
            "Number of unpaid reviews 2623758\n",
            "Number of unpaid voted five star reviews 536382\n",
            "Percantage of unpaid voted reviews that are five stars 20.443272588401825%\n"
          ]
        }
      ]
    }
  ]
}